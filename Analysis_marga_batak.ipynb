{
  "nbformat": 4,
  "nbformat_minor": 0,
  "metadata": {
    "colab": {
      "provenance": [],
      "mount_file_id": "1L6Tfh7naBSZEk_KrZ94-3tXKKz6LAvJ2",
      "authorship_tag": "ABX9TyM1OfrxKFdU2VPcLg8s+Q5c",
      "include_colab_link": true
    },
    "kernelspec": {
      "name": "python3",
      "display_name": "Python 3"
    },
    "language_info": {
      "name": "python"
    }
  },
  "cells": [
    {
      "cell_type": "markdown",
      "metadata": {
        "id": "view-in-github",
        "colab_type": "text"
      },
      "source": [
        "<a href=\"https://colab.research.google.com/github/Wahyu-Siregar/Analysis_marga_batak/blob/main/Analysis_marga_batak.ipynb\" target=\"_parent\"><img src=\"https://colab.research.google.com/assets/colab-badge.svg\" alt=\"Open In Colab\"/></a>"
      ]
    },
    {
      "cell_type": "code",
      "execution_count": 50,
      "metadata": {
        "colab": {
          "base_uri": "https://localhost:8080/"
        },
        "id": "4GvJzm7yWfcl",
        "outputId": "a53b3724-6e81-4824-a1bd-8e36f5f7f40d"
      },
      "outputs": [
        {
          "output_type": "stream",
          "name": "stdout",
          "text": [
            "Drive already mounted at /content/drive; to attempt to forcibly remount, call drive.mount(\"/content/drive\", force_remount=True).\n"
          ]
        }
      ],
      "source": [
        "# prompt: mount drive\n",
        "\n",
        "from google.colab import drive\n",
        "drive.mount('/content/drive')"
      ]
    },
    {
      "cell_type": "code",
      "source": [
        "import pandas as pd\n",
        "\n",
        "# Ganti path sesuai lokasi file di Google Drive kamu\n",
        "df = pd.read_csv('/content/drive/MyDrive/Machine Learning/Dataset/marga_batak_optimized.csv')\n",
        "\n",
        "# Preview data\n",
        "df.head()\n",
        "df.info()\n",
        "df.describe(include='all')"
      ],
      "metadata": {
        "id": "1fvccaN9k-M6"
      },
      "execution_count": null,
      "outputs": []
    },
    {
      "cell_type": "markdown",
      "source": [
        "### DATA CLEANING"
      ],
      "metadata": {
        "id": "p4RX4_rolp7z"
      }
    },
    {
      "cell_type": "code",
      "source": [
        "# Cek nilai kosong per kolom\n",
        "print(df.isnull().sum())\n",
        "\n",
        "# Cek duplikat baris\n",
        "print(\"Jumlah duplikat:\", df.duplicated().sum())"
      ],
      "metadata": {
        "colab": {
          "base_uri": "https://localhost:8080/"
        },
        "id": "kgYRDPSDlllZ",
        "outputId": "fdc06ec1-8df1-452d-81e1-8f442a7bf3d5"
      },
      "execution_count": 54,
      "outputs": [
        {
          "output_type": "stream",
          "name": "stdout",
          "text": [
            "\"No (Text)\"            0\n",
            "\"Marga (Text)\"         0\n",
            "\"Marga (Link)\"         0\n",
            "\"Angkola (Text)\"       0\n",
            "\"Karo (Text)\"          0\n",
            "\"Mandailing (Text)\"    0\n",
            "\"Pakpak (Text)\"        0\n",
            "\"Simalungun (Text)\"    0\n",
            "\"Toba (Text)\"          0\n",
            "\"Keterangan (Text)\"    0\n",
            "\"Description\"          0\n",
            "dtype: int64\n",
            "Jumlah duplikat: 0\n"
          ]
        }
      ]
    },
    {
      "cell_type": "code",
      "source": [
        "# Hilangkan spasi di awal/akhir semua kolom string (versi terbaru)\n",
        "for col in df.columns:\n",
        "    if df[col].dtype == 'object':\n",
        "        df[col] = df[col].str.strip()"
      ],
      "metadata": {
        "id": "oKuyqe_vlxzA"
      },
      "execution_count": 60,
      "outputs": []
    },
    {
      "cell_type": "code",
      "source": [
        "for col in ['\"Marga (Text)\"', '\"Description\"']:\n",
        "    df[col] = df[col].str.lower()"
      ],
      "metadata": {
        "id": "xRA_DJUDmqxO"
      },
      "execution_count": 61,
      "outputs": []
    },
    {
      "cell_type": "code",
      "source": [
        "for col in ['\"Angkola (Text)\"', '\"Karo (Text)\"', '\"Mandailing (Text)\"', '\"Pakpak (Text)\"', '\"Simalungun (Text)\"', '\"Toba (Text)\"']:\n",
        "    print(col, df[col].unique())"
      ],
      "metadata": {
        "colab": {
          "base_uri": "https://localhost:8080/"
        },
        "collapsed": true,
        "id": "uUUkeioemswA",
        "outputId": "2de69cf0-de01-450c-b544-b3a8c3d42125"
      },
      "execution_count": 62,
      "outputs": [
        {
          "output_type": "stream",
          "name": "stdout",
          "text": [
            "\"Angkola (Text)\" ['\"T\"' '\"Y\"']\n",
            "\"Karo (Text)\" ['\"Y\"' '\"T\"']\n",
            "\"Mandailing (Text)\" ['\"T\"' '\"Y\"']\n",
            "\"Pakpak (Text)\" ['\"T\"' '\"Y\"']\n",
            "\"Simalungun (Text)\" ['\"T\"' '\"Y\"']\n",
            "\"Toba (Text)\" ['\"T\"' '\"Y\"']\n"
          ]
        }
      ]
    },
    {
      "cell_type": "markdown",
      "source": [
        "### **Analisis Distribusi Label**"
      ],
      "metadata": {
        "id": "Djk73dPTnjK-"
      }
    },
    {
      "cell_type": "code",
      "source": [
        "for col in ['\"Angkola (Text)\"', '\"Karo (Text)\"', '\"Mandailing (Text)\"', '\"Pakpak (Text)\"', '\"Simalungun (Text)\"', '\"Toba (Text)\"']:\n",
        "    print(f\"{col}:\")\n",
        "    print(df[col].value_counts())\n",
        "    print()"
      ],
      "metadata": {
        "colab": {
          "base_uri": "https://localhost:8080/"
        },
        "collapsed": true,
        "id": "bbD5KZFgm2aY",
        "outputId": "2b155747-a02c-4431-8836-4af8bc4c1a02"
      },
      "execution_count": 63,
      "outputs": [
        {
          "output_type": "stream",
          "name": "stdout",
          "text": [
            "\"Angkola (Text)\":\n",
            "\"Angkola (Text)\"\n",
            "\"T\"    330\n",
            "\"Y\"     19\n",
            "Name: count, dtype: int64\n",
            "\n",
            "\"Karo (Text)\":\n",
            "\"Karo (Text)\"\n",
            "\"T\"    273\n",
            "\"Y\"     76\n",
            "Name: count, dtype: int64\n",
            "\n",
            "\"Mandailing (Text)\":\n",
            "\"Mandailing (Text)\"\n",
            "\"T\"    327\n",
            "\"Y\"     22\n",
            "Name: count, dtype: int64\n",
            "\n",
            "\"Pakpak (Text)\":\n",
            "\"Pakpak (Text)\"\n",
            "\"T\"    301\n",
            "\"Y\"     48\n",
            "Name: count, dtype: int64\n",
            "\n",
            "\"Simalungun (Text)\":\n",
            "\"Simalungun (Text)\"\n",
            "\"T\"    287\n",
            "\"Y\"     62\n",
            "Name: count, dtype: int64\n",
            "\n",
            "\"Toba (Text)\":\n",
            "\"Toba (Text)\"\n",
            "\"Y\"    188\n",
            "\"T\"    161\n",
            "Name: count, dtype: int64\n",
            "\n"
          ]
        }
      ]
    },
    {
      "cell_type": "code",
      "source": [
        "import matplotlib.pyplot as plt\n",
        "\n",
        "# List kolom label\n",
        "label_cols = ['\"Angkola (Text)\"', '\"Karo (Text)\"', '\"Mandailing (Text)\"', '\"Pakpak (Text)\"', '\"Simalungun (Text)\"', '\"Toba (Text)\"']\n",
        "\n",
        "# Plot bar chart untuk setiap label\n",
        "fig, axes = plt.subplots(2, 3, figsize=(15, 8))\n",
        "axes = axes.flatten()\n",
        "\n",
        "for i, col in enumerate(label_cols):\n",
        "    df[col].value_counts().sort_index().plot(kind='bar', ax=axes[i], color=['skyblue', 'salmon'])\n",
        "    axes[i].set_title(col)\n",
        "    axes[i].set_xlabel('Label')\n",
        "    axes[i].set_ylabel('Count')\n",
        "\n",
        "plt.tight_layout()\n",
        "plt.show()"
      ],
      "metadata": {
        "colab": {
          "base_uri": "https://localhost:8080/",
          "height": 767
        },
        "collapsed": true,
        "id": "IUdDqDLCnCaJ",
        "outputId": "6bf64049-e3a5-4445-9bc8-8ae609b63dbf"
      },
      "execution_count": 64,
      "outputs": [
        {
          "output_type": "display_data",
          "data": {
            "text/plain": [
              "<Figure size 1500x800 with 6 Axes>"
            ],
            "image/png": "[encoded data removed]"
          },
          "metadata": {}
        }
      ]
    },
    {
      "cell_type": "markdown",
      "source": [
        "### **Split Train/Test**"
      ],
      "metadata": {
        "id": "0SrF0eYSn37D"
      }
    },
    {
      "cell_type": "code",
      "source": [
        "from sklearn.model_selection import train_test_split\n",
        "\n",
        "# Fitur: gunakan \"Description\" (bisa tambah \"Marga (Text)\" jika mau)\n",
        "X = df[['\"Marga (Text)\"', '\"Description\"']]\n",
        "# Label: 6 kolom sub-etnis\n",
        "y = df[['\"Angkola (Text)\"', '\"Karo (Text)\"', '\"Mandailing (Text)\"', '\"Pakpak (Text)\"', '\"Simalungun (Text)\"', '\"Toba (Text)\"']]\n",
        "\n",
        "# Split data (stratify pada salah satu label, misal \"Toba (Text)\")\n",
        "X_train, X_test, y_train, y_test = train_test_split(\n",
        "    X, y, test_size=0.2, random_state=42, stratify=y['\"Toba (Text)\"']\n",
        ")\n",
        "\n",
        "print(\"Train shape:\", X_train.shape, y_train.shape)\n",
        "print(\"Test shape:\", X_test.shape, y_test.shape)"
      ],
      "metadata": {
        "colab": {
          "base_uri": "https://localhost:8080/"
        },
        "id": "zqlHMyEZn1Pu",
        "outputId": "34638dc6-4073-497a-d4cd-47da6530acdb"
      },
      "execution_count": 65,
      "outputs": [
        {
          "output_type": "stream",
          "name": "stdout",
          "text": [
            "Train shape: (279, 2) (279, 6)\n",
            "Test shape: (70, 2) (70, 6)\n"
          ]
        }
      ]
    },
    {
      "cell_type": "markdown",
      "source": [
        "### **Feature Engineering**"
      ],
      "metadata": {
        "id": "J9BkNRj2oGmV"
      }
    },
    {
      "cell_type": "code",
      "source": [
        "# Ubah label Y/T ke 1/0 untuk seluruh DataFrame\n",
        "def encode_yt(df):\n",
        "    return df.apply(lambda col: col.map(lambda x: 1 if x == '\"Y\"' else 0))\n",
        "\n",
        "y_train_bin = encode_yt(y_train)\n",
        "y_test_bin = encode_yt(y_test)"
      ],
      "metadata": {
        "id": "ZQSzQ2iroH0-"
      },
      "execution_count": 67,
      "outputs": []
    },
    {
      "cell_type": "markdown",
      "source": [
        "### **Ekstraksi Fitur Teks (TF-IDF)**"
      ],
      "metadata": {
        "id": "nOnkI04voZsu"
      }
    },
    {
      "cell_type": "code",
      "source": [
        "from sklearn.feature_extraction.text import TfidfVectorizer\n",
        "\n",
        "# Inisialisasi vectorizer\n",
        "vect = TfidfVectorizer(ngram_range=(1,2), max_features=5000)\n",
        "\n",
        "# Fit di data train, transform train & test\n",
        "X_train_text = vect.fit_transform(X_train['\"Description\"'])\n",
        "X_test_text = vect.transform(X_test['\"Description\"'])\n",
        "\n",
        "print(\"X_train_text shape:\", X_train_text.shape)\n",
        "print(\"X_test_text shape:\", X_test_text.shape)"
      ],
      "metadata": {
        "colab": {
          "base_uri": "https://localhost:8080/"
        },
        "id": "M2ZCLfOooaxk",
        "outputId": "8ccd7ce0-1a2e-4fdc-b1a0-c755027abf3a"
      },
      "execution_count": 68,
      "outputs": [
        {
          "output_type": "stream",
          "name": "stdout",
          "text": [
            "X_train_text shape: (279, 3608)\n",
            "X_test_text shape: (70, 3608)\n"
          ]
        }
      ]
    },
    {
      "cell_type": "markdown",
      "source": [
        "### **Random Forest (MultiOutputClassifier)**"
      ],
      "metadata": {
        "id": "hQ1AQrjIp1SU"
      }
    },
    {
      "cell_type": "code",
      "source": [
        "from sklearn.ensemble import RandomForestClassifier\n",
        "from sklearn.multioutput import MultiOutputClassifier\n",
        "\n",
        "# Inisialisasi model Random Forest\n",
        "rf_clf = MultiOutputClassifier(RandomForestClassifier(n_estimators=100, random_state=42))\n",
        "\n",
        "# Training\n",
        "rf_clf.fit(X_train_text, y_train_bin)\n",
        "\n",
        "# Prediksi di test set\n",
        "y_pred_rf = rf_clf.predict(X_test_text)"
      ],
      "metadata": {
        "id": "rhyLzcD2p3IA"
      },
      "execution_count": 72,
      "outputs": []
    },
    {
      "cell_type": "markdown",
      "source": [
        "### **SVM (LinearSVC, MultiOutputClassifier)**"
      ],
      "metadata": {
        "id": "56KSGA5Xp9pJ"
      }
    },
    {
      "cell_type": "code",
      "source": [
        "from sklearn.svm import LinearSVC\n",
        "\n",
        "# Inisialisasi model LinearSVC\n",
        "svm_clf = MultiOutputClassifier(LinearSVC(max_iter=2000, random_state=42))\n",
        "\n",
        "# Training\n",
        "svm_clf.fit(X_train_text, y_train_bin)\n",
        "\n",
        "# Prediksi di test set\n",
        "y_pred_svm = svm_clf.predict(X_test_text)"
      ],
      "metadata": {
        "id": "m0Ad_GHjp78w"
      },
      "execution_count": 73,
      "outputs": []
    },
    {
      "cell_type": "markdown",
      "source": [
        "### **Evaluasi (Classification Report)**"
      ],
      "metadata": {
        "id": "H4HqeCaWqBJw"
      }
    },
    {
      "cell_type": "code",
      "source": [
        "from sklearn.metrics import classification_report\n",
        "\n",
        "print(\"Random Forest:\")\n",
        "print(classification_report(y_test_bin, y_pred_rf, target_names=y_test_bin.columns))\n",
        "\n",
        "print(\"LinearSVC:\")\n",
        "print(classification_report(y_test_bin, y_pred_svm, target_names=y_test_bin.columns))"
      ],
      "metadata": {
        "colab": {
          "base_uri": "https://localhost:8080/"
        },
        "collapsed": true,
        "id": "9IFYmzxlqCY6",
        "outputId": "0a0768a9-81a0-40e0-e5d5-8049838ce06b"
      },
      "execution_count": 74,
      "outputs": [
        {
          "output_type": "stream",
          "name": "stdout",
          "text": [
            "Random Forest:\n",
            "                     precision    recall  f1-score   support\n",
            "\n",
            "   \"Angkola (Text)\"       0.00      0.00      0.00         1\n",
            "      \"Karo (Text)\"       0.88      0.35      0.50        20\n",
            "\"Mandailing (Text)\"       1.00      0.50      0.67         2\n",
            "    \"Pakpak (Text)\"       0.75      0.43      0.55         7\n",
            "\"Simalungun (Text)\"       0.83      0.31      0.45        16\n",
            "      \"Toba (Text)\"       0.87      0.89      0.88        38\n",
            "\n",
            "          micro avg       0.86      0.60      0.70        84\n",
            "          macro avg       0.72      0.41      0.51        84\n",
            "       weighted avg       0.85      0.60      0.67        84\n",
            "        samples avg       0.68      0.61      0.63        84\n",
            "\n",
            "LinearSVC:\n",
            "                     precision    recall  f1-score   support\n",
            "\n",
            "   \"Angkola (Text)\"       0.00      0.00      0.00         1\n",
            "      \"Karo (Text)\"       0.88      0.35      0.50        20\n",
            "\"Mandailing (Text)\"       1.00      0.50      0.67         2\n",
            "    \"Pakpak (Text)\"       0.67      0.29      0.40         7\n",
            "\"Simalungun (Text)\"       0.83      0.31      0.45        16\n",
            "      \"Toba (Text)\"       0.87      0.89      0.88        38\n",
            "\n",
            "          micro avg       0.86      0.58      0.70        84\n",
            "          macro avg       0.71      0.39      0.48        84\n",
            "       weighted avg       0.84      0.58      0.65        84\n",
            "        samples avg       0.66      0.60      0.62        84\n",
            "\n"
          ]
        },
        {
          "output_type": "stream",
          "name": "stderr",
          "text": [
            "/usr/local/lib/python3.11/dist-packages/sklearn/metrics/_classification.py:1565: UndefinedMetricWarning: Precision is ill-defined and being set to 0.0 in labels with no predicted samples. Use `zero_division` parameter to control this behavior.\n",
            "  _warn_prf(average, modifier, f\"{metric.capitalize()} is\", len(result))\n",
            "/usr/local/lib/python3.11/dist-packages/sklearn/metrics/_classification.py:1565: UndefinedMetricWarning: Precision is ill-defined and being set to 0.0 in samples with no predicted labels. Use `zero_division` parameter to control this behavior.\n",
            "  _warn_prf(average, modifier, f\"{metric.capitalize()} is\", len(result))\n",
            "/usr/local/lib/python3.11/dist-packages/sklearn/metrics/_classification.py:1565: UndefinedMetricWarning: Precision is ill-defined and being set to 0.0 in labels with no predicted samples. Use `zero_division` parameter to control this behavior.\n",
            "  _warn_prf(average, modifier, f\"{metric.capitalize()} is\", len(result))\n",
            "/usr/local/lib/python3.11/dist-packages/sklearn/metrics/_classification.py:1565: UndefinedMetricWarning: Precision is ill-defined and being set to 0.0 in samples with no predicted labels. Use `zero_division` parameter to control this behavior.\n",
            "  _warn_prf(average, modifier, f\"{metric.capitalize()} is\", len(result))\n"
          ]
        }
      ]
    },
    {
      "cell_type": "markdown",
      "source": [
        "### **Pipeline (Random Forest)**"
      ],
      "metadata": {
        "id": "GGDWV2GdqY6S"
      }
    },
    {
      "cell_type": "code",
      "source": [
        "from sklearn.pipeline import Pipeline\n",
        "\n",
        "# Pipeline dengan Random Forest (model terbaik)\n",
        "pipeline = Pipeline([\n",
        "    ('tfidf', TfidfVectorizer(ngram_range=(1,2), max_features=5000)),\n",
        "    ('clf', MultiOutputClassifier(RandomForestClassifier(n_estimators=100, random_state=42)))\n",
        "])\n",
        "\n",
        "# Fit pipeline dengan data mentah (teks)\n",
        "X_train_raw = X_train['\"Description\"']\n",
        "pipeline.fit(X_train_raw, y_train_bin)\n",
        "\n",
        "# Prediksi dengan pipeline\n",
        "y_pred_pipe = pipeline.predict(X_test['\"Description\"'])\n",
        "\n",
        "# Evaluasi\n",
        "print(\"Pipeline (Random Forest):\")\n",
        "print(classification_report(y_test_bin, y_pred_pipe, target_names=y_test_bin.columns))"
      ],
      "metadata": {
        "colab": {
          "base_uri": "https://localhost:8080/"
        },
        "collapsed": true,
        "id": "hubQE9MsqaDu",
        "outputId": "da9df9b6-bf33-4d42-bcf1-ed8cac42b7a4"
      },
      "execution_count": 75,
      "outputs": [
        {
          "output_type": "stream",
          "name": "stdout",
          "text": [
            "Pipeline (Random Forest):\n",
            "                     precision    recall  f1-score   support\n",
            "\n",
            "   \"Angkola (Text)\"       0.00      0.00      0.00         1\n",
            "      \"Karo (Text)\"       0.88      0.35      0.50        20\n",
            "\"Mandailing (Text)\"       1.00      0.50      0.67         2\n",
            "    \"Pakpak (Text)\"       0.75      0.43      0.55         7\n",
            "\"Simalungun (Text)\"       0.83      0.31      0.45        16\n",
            "      \"Toba (Text)\"       0.87      0.89      0.88        38\n",
            "\n",
            "          micro avg       0.86      0.60      0.70        84\n",
            "          macro avg       0.72      0.41      0.51        84\n",
            "       weighted avg       0.85      0.60      0.67        84\n",
            "        samples avg       0.68      0.61      0.63        84\n",
            "\n"
          ]
        },
        {
          "output_type": "stream",
          "name": "stderr",
          "text": [
            "/usr/local/lib/python3.11/dist-packages/sklearn/metrics/_classification.py:1565: UndefinedMetricWarning: Precision is ill-defined and being set to 0.0 in labels with no predicted samples. Use `zero_division` parameter to control this behavior.\n",
            "  _warn_prf(average, modifier, f\"{metric.capitalize()} is\", len(result))\n",
            "/usr/local/lib/python3.11/dist-packages/sklearn/metrics/_classification.py:1565: UndefinedMetricWarning: Precision is ill-defined and being set to 0.0 in samples with no predicted labels. Use `zero_division` parameter to control this behavior.\n",
            "  _warn_prf(average, modifier, f\"{metric.capitalize()} is\", len(result))\n"
          ]
        }
      ]
    },
    {
      "cell_type": "markdown",
      "source": [
        "### **Hyperparameter Tuning**"
      ],
      "metadata": {
        "id": "-8AuPtK8q4RN"
      }
    },
    {
      "cell_type": "code",
      "source": [
        "from sklearn.model_selection import GridSearchCV\n",
        "\n",
        "# Parameter untuk Random Forest (versi sederhana agar tidak terlalu lama)\n",
        "param_grid = {\n",
        "    'clf__estimator__n_estimators': [50, 100],\n",
        "    'clf__estimator__max_depth': [None, 20],\n",
        "    'tfidf__max_features': [3000, 5000]\n",
        "}\n",
        "\n",
        "# Grid Search\n",
        "grid = GridSearchCV(pipeline, param_grid, cv=3, scoring='f1_micro')\n",
        "grid.fit(X_train_raw, y_train_bin)\n",
        "\n",
        "print(\"Best parameters:\", grid.best_params_)\n",
        "print(\"Best score:\", grid.best_score_)\n",
        "\n",
        "# Prediksi dengan model terbaik\n",
        "y_pred_best = grid.best_estimator_.predict(X_test['\"Description\"'])\n",
        "print(\"\\nBest model performance:\")\n",
        "print(classification_report(y_test_bin, y_pred_best, target_names=y_test_bin.columns))"
      ],
      "metadata": {
        "colab": {
          "base_uri": "https://localhost:8080/"
        },
        "id": "jaF_mDs1q13y",
        "outputId": "9ffa5bdd-b950-42c4-8c8c-1882fb436592"
      },
      "execution_count": 76,
      "outputs": [
        {
          "output_type": "stream",
          "name": "stdout",
          "text": [
            "Best parameters: {'clf__estimator__max_depth': None, 'clf__estimator__n_estimators': 100, 'tfidf__max_features': 3000}\n",
            "Best score: 0.6690659630959784\n",
            "\n",
            "Best model performance:\n",
            "                     precision    recall  f1-score   support\n",
            "\n",
            "   \"Angkola (Text)\"       0.00      0.00      0.00         1\n",
            "      \"Karo (Text)\"       0.78      0.35      0.48        20\n",
            "\"Mandailing (Text)\"       1.00      0.50      0.67         2\n",
            "    \"Pakpak (Text)\"       0.67      0.29      0.40         7\n",
            "\"Simalungun (Text)\"       0.80      0.25      0.38        16\n",
            "      \"Toba (Text)\"       0.89      0.87      0.88        38\n",
            "\n",
            "          micro avg       0.85      0.56      0.68        84\n",
            "          macro avg       0.69      0.38      0.47        84\n",
            "       weighted avg       0.82      0.56      0.63        84\n",
            "        samples avg       0.65      0.60      0.61        84\n",
            "\n"
          ]
        },
        {
          "output_type": "stream",
          "name": "stderr",
          "text": [
            "/usr/local/lib/python3.11/dist-packages/sklearn/metrics/_classification.py:1565: UndefinedMetricWarning: Precision is ill-defined and being set to 0.0 in labels with no predicted samples. Use `zero_division` parameter to control this behavior.\n",
            "  _warn_prf(average, modifier, f\"{metric.capitalize()} is\", len(result))\n",
            "/usr/local/lib/python3.11/dist-packages/sklearn/metrics/_classification.py:1565: UndefinedMetricWarning: Precision is ill-defined and being set to 0.0 in samples with no predicted labels. Use `zero_division` parameter to control this behavior.\n",
            "  _warn_prf(average, modifier, f\"{metric.capitalize()} is\", len(result))\n"
          ]
        }
      ]
    }
  ]
}